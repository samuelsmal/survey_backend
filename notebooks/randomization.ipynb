{
 "cells": [
  {
   "cell_type": "code",
   "execution_count": 1,
   "metadata": {
    "ExecuteTime": {
     "end_time": "2019-03-25T10:33:54.125507Z",
     "start_time": "2019-03-25T10:33:53.978517Z"
    }
   },
   "outputs": [],
   "source": [
    "import numpy as np"
   ]
  },
  {
   "cell_type": "code",
   "execution_count": 51,
   "metadata": {
    "ExecuteTime": {
     "end_time": "2019-03-25T10:45:12.735481Z",
     "start_time": "2019-03-25T10:45:12.725870Z"
    }
   },
   "outputs": [],
   "source": [
    "__TASK_ORDER__ = [1,2,3,4]\n",
    "__MUSIC_ORDER__ = ['relax', 'energy', 'nothing']\n",
    "    \n",
    "def generate_user_ids(n):\n",
    "    '''Generate a list of n valid user ids.'''\n",
    "    return [hex(2*i + 16)[-2:] + hex(i + 16)[-2:] for i in range(n)]\n",
    "\n",
    "def shuffle(user_id):\n",
    "    return int(user_id[-2:], 16) - 16\n",
    "\n",
    "def shuffle_task(tasks):\n",
    "    '''Returns shuffled task for specified user'''\n",
    "    return np.random.permutation(tasks)\n",
    "\n",
    "def shuffle_music(music_order):\n",
    "    '''Returns shuffled music_order for specified user'''\n",
    "    return np.random.permutation(music_order)\n",
    "\n",
    "def user_task(user_id, tasks=__TASK_ORDER__, music_order=__MUSIC_ORDER__):\n",
    "     # the last one is always self chosen\n",
    "    return {user_id: {'questions': shuffle_task(tasks).tolist(), 'music_order': shuffle_music(music_order).tolist() + ['nothing']}}"
   ]
  },
  {
   "cell_type": "code",
   "execution_count": 60,
   "metadata": {
    "ExecuteTime": {
     "end_time": "2019-03-25T11:27:48.804146Z",
     "start_time": "2019-03-25T11:27:48.787133Z"
    }
   },
   "outputs": [],
   "source": [
    "np.random.seed(42)\n",
    "assignments = [user_task(i) for i in generate_user_ids(10)]"
   ]
  },
  {
   "cell_type": "code",
   "execution_count": 79,
   "metadata": {
    "ExecuteTime": {
     "end_time": "2019-03-25T11:44:53.886167Z",
     "start_time": "2019-03-25T11:44:53.877710Z"
    }
   },
   "outputs": [
    {
     "data": {
      "text/plain": [
       "[{'questions': [2, 4, 1, 3],\n",
       "  'music_order': ['relax', 'energy', 'nothing', 'nothing']}]"
      ]
     },
     "execution_count": 79,
     "metadata": {},
     "output_type": "execute_result"
    }
   ],
   "source": [
    "list(a.values())"
   ]
  },
  {
   "cell_type": "code",
   "execution_count": 74,
   "metadata": {
    "ExecuteTime": {
     "end_time": "2019-03-25T11:41:35.158851Z",
     "start_time": "2019-03-25T11:41:35.140807Z"
    }
   },
   "outputs": [],
   "source": [
    "def get_key(d):\n",
    "    return list(d.keys())[0]\n",
    "\n",
    "def get_vals(d):\n",
    "    return list(d.values())[0]\n",
    "\n",
    "import json\n",
    "with open('../data/user_assigments.json', 'w') as f:\n",
    "    json.dump({get_key(d): get_vals(d) for d in assignments}, f)"
   ]
  },
  {
   "cell_type": "code",
   "execution_count": 63,
   "metadata": {
    "ExecuteTime": {
     "end_time": "2019-03-25T11:29:01.003077Z",
     "start_time": "2019-03-25T11:29:00.857158Z"
    }
   },
   "outputs": [
    {
     "name": "stdout",
     "output_type": "stream",
     "text": [
      "\u001b[0m\u001b[38;5;33madditional_data\u001b[0m/  ct_fr_03.json  ct_it_03.json  dt_it.json\r\n",
      "\u001b[38;5;33manswers\u001b[0m/          ct_fr_04.json  ct_it_04.json  user_assigments.json\r\n",
      "ct_fr_01.json     ct_it_01.json  dt_en.json\r\n",
      "ct_fr_02.json     ct_it_02.json  dt_fr.json\r\n"
     ]
    }
   ],
   "source": [
    "ls ../data/"
   ]
  },
  {
   "cell_type": "code",
   "execution_count": null,
   "metadata": {},
   "outputs": [],
   "source": []
  }
 ],
 "metadata": {
  "kernelspec": {
   "display_name": "Python 3",
   "language": "python",
   "name": "python3"
  },
  "language_info": {
   "codemirror_mode": {
    "name": "ipython",
    "version": 3
   },
   "file_extension": ".py",
   "mimetype": "text/x-python",
   "name": "python",
   "nbconvert_exporter": "python",
   "pygments_lexer": "ipython3",
   "version": "3.6.7"
  },
  "toc": {
   "base_numbering": 1,
   "nav_menu": {},
   "number_sections": true,
   "sideBar": true,
   "skip_h1_title": false,
   "title_cell": "Table of Contents",
   "title_sidebar": "Contents",
   "toc_cell": false,
   "toc_position": {},
   "toc_section_display": true,
   "toc_window_display": false
  }
 },
 "nbformat": 4,
 "nbformat_minor": 2
}
