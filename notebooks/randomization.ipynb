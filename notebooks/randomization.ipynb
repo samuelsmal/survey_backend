{
 "cells": [
  {
   "cell_type": "code",
   "execution_count": 1,
   "metadata": {
    "ExecuteTime": {
     "end_time": "2019-03-25T10:33:54.125507Z",
     "start_time": "2019-03-25T10:33:53.978517Z"
    }
   },
   "outputs": [],
   "source": [
    "import numpy as np"
   ]
  },
  {
   "cell_type": "code",
   "execution_count": 85,
   "metadata": {
    "ExecuteTime": {
     "end_time": "2019-03-26T10:04:09.395453Z",
     "start_time": "2019-03-26T10:04:09.382999Z"
    }
   },
   "outputs": [
    {
     "data": {
      "text/plain": [
       "[1, 2, 3, 4]"
      ]
     },
     "execution_count": 85,
     "metadata": {},
     "output_type": "execute_result"
    }
   ],
   "source": [
    "list(range(1, 5))"
   ]
  },
  {
   "cell_type": "code",
   "execution_count": 92,
   "metadata": {
    "ExecuteTime": {
     "end_time": "2019-03-26T10:07:13.971954Z",
     "start_time": "2019-03-26T10:07:13.962857Z"
    }
   },
   "outputs": [],
   "source": [
    "__CT_TASK_ORDER__ = list(range(1, 5))\n",
    "__DT_TASK_ORDER__ = list(range(1, 14))\n",
    "__MUSIC_ORDER__ = ['relax', 'energy', 'nothing']\n",
    "    \n",
    "def generate_user_ids(n):\n",
    "    '''Generate a list of n valid user ids.'''\n",
    "    return [hex(2*i + 16)[-2:] + hex(i + 16)[-2:] for i in range(n)]\n",
    "\n",
    "def shuffle(user_id):\n",
    "    return int(user_id[-2:], 16) - 16\n",
    "\n",
    "def shuffle_task(tasks):\n",
    "    '''Returns shuffled task for specified user'''\n",
    "    return np.random.permutation(tasks)\n",
    "\n",
    "def shuffle_music(music_order):\n",
    "    '''Returns shuffled music_order for specified user'''\n",
    "    return np.random.permutation(music_order)\n",
    "\n",
    "def user_task(user_id, ct_tasks=__CT_TASK_ORDER__, dt_tasks=__DT_TASK_ORDER__, music_order=__MUSIC_ORDER__):\n",
    "     # the last one is always self chosen\n",
    "    return {user_id: {'ct_questions': shuffle_task(ct_tasks).tolist(), \n",
    "                      'dt_questions': shuffle_task(dt_tasks).tolist()[:4],\n",
    "                      'music_order': shuffle_music(music_order).tolist() + ['nothing']}}"
   ]
  },
  {
   "cell_type": "code",
   "execution_count": 94,
   "metadata": {
    "ExecuteTime": {
     "end_time": "2019-03-26T10:07:16.823202Z",
     "start_time": "2019-03-26T10:07:16.817142Z"
    }
   },
   "outputs": [],
   "source": [
    "np.random.seed(42)\n",
    "assignments = [user_task(i) for i in generate_user_ids(10)]"
   ]
  },
  {
   "cell_type": "code",
   "execution_count": 95,
   "metadata": {
    "ExecuteTime": {
     "end_time": "2019-03-26T10:07:17.411472Z",
     "start_time": "2019-03-26T10:07:17.380173Z"
    }
   },
   "outputs": [
    {
     "data": {
      "text/plain": [
       "[{'1010': {'ct_questions': [2, 4, 1, 3],\n",
       "   'dt_questions': [1, 2, 6, 4],\n",
       "   'music_order': ['nothing', 'energy', 'relax', 'nothing']}},\n",
       " {'1211': {'ct_questions': [1, 3, 2, 4],\n",
       "   'dt_questions': [13, 8, 7, 3],\n",
       "   'music_order': ['relax', 'nothing', 'energy', 'nothing']}},\n",
       " {'1412': {'ct_questions': [1, 2, 3, 4],\n",
       "   'dt_questions': [10, 2, 6, 1],\n",
       "   'music_order': ['nothing', 'energy', 'relax', 'nothing']}},\n",
       " {'1613': {'ct_questions': [1, 3, 4, 2],\n",
       "   'dt_questions': [12, 11, 3, 1],\n",
       "   'music_order': ['nothing', 'relax', 'energy', 'nothing']}},\n",
       " {'1814': {'ct_questions': [1, 3, 2, 4],\n",
       "   'dt_questions': [1, 3, 7, 9],\n",
       "   'music_order': ['relax', 'nothing', 'energy', 'nothing']}},\n",
       " {'1a15': {'ct_questions': [1, 4, 3, 2],\n",
       "   'dt_questions': [3, 1, 6, 4],\n",
       "   'music_order': ['energy', 'nothing', 'relax', 'nothing']}},\n",
       " {'1c16': {'ct_questions': [2, 4, 3, 1],\n",
       "   'dt_questions': [2, 11, 5, 10],\n",
       "   'music_order': ['energy', 'nothing', 'relax', 'nothing']}},\n",
       " {'1e17': {'ct_questions': [3, 4, 2, 1],\n",
       "   'dt_questions': [13, 6, 11, 3],\n",
       "   'music_order': ['energy', 'relax', 'nothing', 'nothing']}},\n",
       " {'2018': {'ct_questions': [2, 4, 1, 3],\n",
       "   'dt_questions': [11, 2, 4, 8],\n",
       "   'music_order': ['relax', 'nothing', 'energy', 'nothing']}},\n",
       " {'2219': {'ct_questions': [2, 4, 3, 1],\n",
       "   'dt_questions': [6, 2, 10, 12],\n",
       "   'music_order': ['energy', 'relax', 'nothing', 'nothing']}}]"
      ]
     },
     "execution_count": 95,
     "metadata": {},
     "output_type": "execute_result"
    }
   ],
   "source": [
    "assignments"
   ]
  },
  {
   "cell_type": "code",
   "execution_count": 96,
   "metadata": {
    "ExecuteTime": {
     "end_time": "2019-03-26T10:09:28.792816Z",
     "start_time": "2019-03-26T10:09:28.782916Z"
    }
   },
   "outputs": [],
   "source": [
    "def get_key(d):\n",
    "    return list(d.keys())[0]\n",
    "\n",
    "def get_vals(d):\n",
    "    return list(d.values())[0]\n",
    "\n",
    "import json\n",
    "with open('../data/user_assigments.json', 'w') as f:\n",
    "    json.dump({get_key(d): get_vals(d) for d in assignments}, f)"
   ]
  },
  {
   "cell_type": "code",
   "execution_count": 63,
   "metadata": {
    "ExecuteTime": {
     "end_time": "2019-03-25T11:29:01.003077Z",
     "start_time": "2019-03-25T11:29:00.857158Z"
    }
   },
   "outputs": [
    {
     "name": "stdout",
     "output_type": "stream",
     "text": [
      "\u001b[0m\u001b[38;5;33madditional_data\u001b[0m/  ct_fr_03.json  ct_it_03.json  dt_it.json\r\n",
      "\u001b[38;5;33manswers\u001b[0m/          ct_fr_04.json  ct_it_04.json  user_assigments.json\r\n",
      "ct_fr_01.json     ct_it_01.json  dt_en.json\r\n",
      "ct_fr_02.json     ct_it_02.json  dt_fr.json\r\n"
     ]
    }
   ],
   "source": [
    "ls ../data/"
   ]
  },
  {
   "cell_type": "code",
   "execution_count": 97,
   "metadata": {
    "ExecuteTime": {
     "end_time": "2019-03-26T10:09:56.749857Z",
     "start_time": "2019-03-26T10:09:56.621633Z"
    }
   },
   "outputs": [
    {
     "name": "stdout",
     "output_type": "stream",
     "text": [
      "[\r\n",
      "  {\"id\": \"dt_en_01\", \"keyword\": \"Brick\"},\r\n",
      "  {\"id\": \"dt_en_02\", \"keyword\": \"Newspaper\"},\r\n",
      "  {\"id\": \"dt_en_03\", \"keyword\": \"Shoe\"},\r\n",
      "  {\"id\": \"dt_en_04\", \"keyword\": \"Screwdriver\"},\r\n",
      "  {\"id\": \"dt_en_05\", \"keyword\": \"Car Tyre\"},\r\n",
      "  {\"id\": \"dt_en_06\", \"keyword\": \"Barrel\"},\r\n",
      "  {\"id\": \"dt_en_07\", \"keyword\": \"Pencil\"},\r\n",
      "  {\"id\": \"dt_en_08\", \"keyword\": \"Hanger\"},\r\n",
      "  {\"id\": \"dt_en_09\", \"keyword\": \"Knife\"},\r\n"
     ]
    }
   ],
   "source": [
    "!head ../data/dt_en.json"
   ]
  },
  {
   "cell_type": "code",
   "execution_count": 82,
   "metadata": {
    "ExecuteTime": {
     "end_time": "2019-03-26T10:03:04.724289Z",
     "start_time": "2019-03-26T10:03:04.715587Z"
    }
   },
   "outputs": [],
   "source": [
    "dt = {}\n",
    "\n",
    "for l in ['fr', 'it', 'en']:\n",
    "    with open('../data/dt_fr.json', 'r') as f:\n",
    "        dt[l] = json.load(f)"
   ]
  },
  {
   "cell_type": "code",
   "execution_count": 84,
   "metadata": {
    "ExecuteTime": {
     "end_time": "2019-03-26T10:03:20.280595Z",
     "start_time": "2019-03-26T10:03:20.275503Z"
    }
   },
   "outputs": [
    {
     "name": "stdout",
     "output_type": "stream",
     "text": [
      "13\n",
      "13\n",
      "13\n"
     ]
    }
   ],
   "source": [
    "for k, v in dt.items():\n",
    "    print(len(v))"
   ]
  }
 ],
 "metadata": {
  "kernelspec": {
   "display_name": "Python 3",
   "language": "python",
   "name": "python3"
  },
  "language_info": {
   "codemirror_mode": {
    "name": "ipython",
    "version": 3
   },
   "file_extension": ".py",
   "mimetype": "text/x-python",
   "name": "python",
   "nbconvert_exporter": "python",
   "pygments_lexer": "ipython3",
   "version": "3.6.7"
  },
  "toc": {
   "base_numbering": 1,
   "nav_menu": {},
   "number_sections": true,
   "sideBar": true,
   "skip_h1_title": false,
   "title_cell": "Table of Contents",
   "title_sidebar": "Contents",
   "toc_cell": false,
   "toc_position": {},
   "toc_section_display": true,
   "toc_window_display": false
  }
 },
 "nbformat": 4,
 "nbformat_minor": 2
}
