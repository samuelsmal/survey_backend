{
 "cells": [
  {
   "cell_type": "code",
   "execution_count": 1,
   "metadata": {
    "ExecuteTime": {
     "end_time": "2019-03-29T09:27:06.587791Z",
     "start_time": "2019-03-29T09:27:06.285653Z"
    }
   },
   "outputs": [],
   "source": [
    "import json\n",
    "import numpy as np"
   ]
  },
  {
   "cell_type": "code",
   "execution_count": 7,
   "metadata": {
    "ExecuteTime": {
     "end_time": "2019-03-29T09:28:15.158905Z",
     "start_time": "2019-03-29T09:28:15.152079Z"
    }
   },
   "outputs": [],
   "source": [
    "user_id = \"1010\""
   ]
  },
  {
   "cell_type": "code",
   "execution_count": 34,
   "metadata": {
    "ExecuteTime": {
     "end_time": "2019-03-29T09:42:46.073323Z",
     "start_time": "2019-03-29T09:42:46.059384Z"
    }
   },
   "outputs": [],
   "source": [
    "with open(f'../data/answers/{user_id}.json', 'r') as f:\n",
    "    #answers = pd.read_json(f)\n",
    "    #answers = f.read()\n",
    "    answers = json.load(f)\n",
    "    \n",
    "    \n",
    "with open(f'../data/additional_data/{user_id}.json', 'r') as f:\n",
    "    additional_data = json.load(f)"
   ]
  },
  {
   "cell_type": "code",
   "execution_count": 31,
   "metadata": {
    "ExecuteTime": {
     "end_time": "2019-03-29T09:41:56.904876Z",
     "start_time": "2019-03-29T09:41:56.902035Z"
    }
   },
   "outputs": [],
   "source": [
    "from pandas.io.json import json_normalize    "
   ]
  },
  {
   "cell_type": "code",
   "execution_count": 23,
   "metadata": {
    "ExecuteTime": {
     "end_time": "2019-03-29T09:39:04.961977Z",
     "start_time": "2019-03-29T09:39:04.578896Z"
    }
   },
   "outputs": [],
   "source": [
    "import pandas as pd"
   ]
  },
  {
   "cell_type": "code",
   "execution_count": 56,
   "metadata": {
    "ExecuteTime": {
     "end_time": "2019-03-29T09:48:32.714840Z",
     "start_time": "2019-03-29T09:48:32.691054Z"
    }
   },
   "outputs": [
    {
     "data": {
      "text/plain": [
       "0    [fr_2__ct_1, fr_2__ct_answer_b, 1553852035944]\n",
       "1    [fr_2__ct_2, fr_2__ct_answer_b, 1553852036055]\n",
       "Name: data, dtype: object"
      ]
     },
     "execution_count": 56,
     "metadata": {},
     "output_type": "execute_result"
    }
   ],
   "source": [
    "answers['data'][:2]"
   ]
  },
  {
   "cell_type": "code",
   "execution_count": 47,
   "metadata": {
    "ExecuteTime": {
     "end_time": "2019-03-29T09:47:44.282546Z",
     "start_time": "2019-03-29T09:47:44.276268Z"
    }
   },
   "outputs": [],
   "source": [
    "answers = pd.DataFrame(answers)\n",
    "#answers['question_id'] = answers['data'].str"
   ]
  },
  {
   "cell_type": "code",
   "execution_count": 62,
   "metadata": {
    "ExecuteTime": {
     "end_time": "2019-03-29T09:52:40.746104Z",
     "start_time": "2019-03-29T09:52:40.724675Z"
    }
   },
   "outputs": [],
   "source": [
    "answers[['question_id', 'answer', 'timestamp']] = pd.DataFrame(answers.data.values.tolist(), index=answers.index)"
   ]
  },
  {
   "cell_type": "code",
   "execution_count": 63,
   "metadata": {
    "ExecuteTime": {
     "end_time": "2019-03-29T09:52:41.327564Z",
     "start_time": "2019-03-29T09:52:41.295737Z"
    }
   },
   "outputs": [
    {
     "data": {
      "text/html": [
       "<div>\n",
       "<style scoped>\n",
       "    .dataframe tbody tr th:only-of-type {\n",
       "        vertical-align: middle;\n",
       "    }\n",
       "\n",
       "    .dataframe tbody tr th {\n",
       "        vertical-align: top;\n",
       "    }\n",
       "\n",
       "    .dataframe thead th {\n",
       "        text-align: right;\n",
       "    }\n",
       "</style>\n",
       "<table border=\"1\" class=\"dataframe\">\n",
       "  <thead>\n",
       "    <tr style=\"text-align: right;\">\n",
       "      <th></th>\n",
       "      <th>api_token</th>\n",
       "      <th>data</th>\n",
       "      <th>question_id</th>\n",
       "      <th>answer</th>\n",
       "      <th>timestamp</th>\n",
       "    </tr>\n",
       "  </thead>\n",
       "  <tbody>\n",
       "    <tr>\n",
       "      <th>0</th>\n",
       "      <td>1553851994644</td>\n",
       "      <td>[fr_2__ct_1, fr_2__ct_answer_b, 1553852035944]</td>\n",
       "      <td>fr_2__ct_1</td>\n",
       "      <td>fr_2__ct_answer_b</td>\n",
       "      <td>1553852035944</td>\n",
       "    </tr>\n",
       "    <tr>\n",
       "      <th>1</th>\n",
       "      <td>1553851994644</td>\n",
       "      <td>[fr_2__ct_2, fr_2__ct_answer_b, 1553852036055]</td>\n",
       "      <td>fr_2__ct_2</td>\n",
       "      <td>fr_2__ct_answer_b</td>\n",
       "      <td>1553852036055</td>\n",
       "    </tr>\n",
       "    <tr>\n",
       "      <th>2</th>\n",
       "      <td>1553851994644</td>\n",
       "      <td>[fr_2__ct_3, fr_2__ct_answer_a, 1553852037022]</td>\n",
       "      <td>fr_2__ct_3</td>\n",
       "      <td>fr_2__ct_answer_a</td>\n",
       "      <td>1553852037022</td>\n",
       "    </tr>\n",
       "    <tr>\n",
       "      <th>3</th>\n",
       "      <td>1553851994644</td>\n",
       "      <td>[fr_2__ct_4, fr_2__ct_answer_a, 1553852037149]</td>\n",
       "      <td>fr_2__ct_4</td>\n",
       "      <td>fr_2__ct_answer_a</td>\n",
       "      <td>1553852037149</td>\n",
       "    </tr>\n",
       "    <tr>\n",
       "      <th>4</th>\n",
       "      <td>1553851994644</td>\n",
       "      <td>[fr_2__ct_5, fr_2__ct_answer_a, 1553852037269]</td>\n",
       "      <td>fr_2__ct_5</td>\n",
       "      <td>fr_2__ct_answer_a</td>\n",
       "      <td>1553852037269</td>\n",
       "    </tr>\n",
       "    <tr>\n",
       "      <th>5</th>\n",
       "      <td>1553851994644</td>\n",
       "      <td>[fr_2__ct_6, fr_2__ct_answer_e, 1553852038112]</td>\n",
       "      <td>fr_2__ct_6</td>\n",
       "      <td>fr_2__ct_answer_e</td>\n",
       "      <td>1553852038112</td>\n",
       "    </tr>\n",
       "    <tr>\n",
       "      <th>6</th>\n",
       "      <td>1553851994644</td>\n",
       "      <td>[fr_2__ct_7, fr_2__ct_answer_e, 1553852038250]</td>\n",
       "      <td>fr_2__ct_7</td>\n",
       "      <td>fr_2__ct_answer_e</td>\n",
       "      <td>1553852038250</td>\n",
       "    </tr>\n",
       "    <tr>\n",
       "      <th>7</th>\n",
       "      <td>1553851994644</td>\n",
       "      <td>[fr_2__ct_8, fr_2__ct_answer_e, 1553852038352]</td>\n",
       "      <td>fr_2__ct_8</td>\n",
       "      <td>fr_2__ct_answer_e</td>\n",
       "      <td>1553852038352</td>\n",
       "    </tr>\n",
       "    <tr>\n",
       "      <th>8</th>\n",
       "      <td>undefined</td>\n",
       "      <td>[dt_fr_02, asdas, 1553852091004]</td>\n",
       "      <td>dt_fr_02</td>\n",
       "      <td>asdas</td>\n",
       "      <td>1553852091004</td>\n",
       "    </tr>\n",
       "    <tr>\n",
       "      <th>9</th>\n",
       "      <td>undefined</td>\n",
       "      <td>[dt_fr_02, 111, 1553852092034]</td>\n",
       "      <td>dt_fr_02</td>\n",
       "      <td>111</td>\n",
       "      <td>1553852092034</td>\n",
       "    </tr>\n",
       "    <tr>\n",
       "      <th>10</th>\n",
       "      <td>undefined</td>\n",
       "      <td>[dt_fr_02, dt, 1553852094946]</td>\n",
       "      <td>dt_fr_02</td>\n",
       "      <td>dt</td>\n",
       "      <td>1553852094946</td>\n",
       "    </tr>\n",
       "    <tr>\n",
       "      <th>11</th>\n",
       "      <td>undefined</td>\n",
       "      <td>[dt_fr_02, dt, 1553852095393]</td>\n",
       "      <td>dt_fr_02</td>\n",
       "      <td>dt</td>\n",
       "      <td>1553852095393</td>\n",
       "    </tr>\n",
       "    <tr>\n",
       "      <th>12</th>\n",
       "      <td>undefined</td>\n",
       "      <td>[dt_fr_02, dt, 1553852095777]</td>\n",
       "      <td>dt_fr_02</td>\n",
       "      <td>dt</td>\n",
       "      <td>1553852095777</td>\n",
       "    </tr>\n",
       "    <tr>\n",
       "      <th>13</th>\n",
       "      <td>undefined</td>\n",
       "      <td>[dt_fr_02, dt, 1553852096198]</td>\n",
       "      <td>dt_fr_02</td>\n",
       "      <td>dt</td>\n",
       "      <td>1553852096198</td>\n",
       "    </tr>\n",
       "    <tr>\n",
       "      <th>14</th>\n",
       "      <td>1553852137831</td>\n",
       "      <td>[fr_2__ct_1, fr_2__ct_answer_b, 1553852239251]</td>\n",
       "      <td>fr_2__ct_1</td>\n",
       "      <td>fr_2__ct_answer_b</td>\n",
       "      <td>1553852239251</td>\n",
       "    </tr>\n",
       "    <tr>\n",
       "      <th>15</th>\n",
       "      <td>1553852137831</td>\n",
       "      <td>[fr_2__ct_2, fr_2__ct_answer_b, 1553852239360]</td>\n",
       "      <td>fr_2__ct_2</td>\n",
       "      <td>fr_2__ct_answer_b</td>\n",
       "      <td>1553852239360</td>\n",
       "    </tr>\n",
       "    <tr>\n",
       "      <th>16</th>\n",
       "      <td>1553852137831</td>\n",
       "      <td>[fr_2__ct_3, fr_2__ct_answer_c, 1553852240452]</td>\n",
       "      <td>fr_2__ct_3</td>\n",
       "      <td>fr_2__ct_answer_c</td>\n",
       "      <td>1553852240452</td>\n",
       "    </tr>\n",
       "    <tr>\n",
       "      <th>17</th>\n",
       "      <td>1553852137831</td>\n",
       "      <td>[fr_2__ct_4, fr_2__ct_answer_a, 1553852242155]</td>\n",
       "      <td>fr_2__ct_4</td>\n",
       "      <td>fr_2__ct_answer_a</td>\n",
       "      <td>1553852242155</td>\n",
       "    </tr>\n",
       "    <tr>\n",
       "      <th>18</th>\n",
       "      <td>1553852137831</td>\n",
       "      <td>[fr_2__ct_5, fr_2__ct_answer_a, 1553852242260]</td>\n",
       "      <td>fr_2__ct_5</td>\n",
       "      <td>fr_2__ct_answer_a</td>\n",
       "      <td>1553852242260</td>\n",
       "    </tr>\n",
       "    <tr>\n",
       "      <th>19</th>\n",
       "      <td>1553852137831</td>\n",
       "      <td>[fr_2__ct_6, fr_2__ct_answer_a, 1553852242416]</td>\n",
       "      <td>fr_2__ct_6</td>\n",
       "      <td>fr_2__ct_answer_a</td>\n",
       "      <td>1553852242416</td>\n",
       "    </tr>\n",
       "    <tr>\n",
       "      <th>20</th>\n",
       "      <td>1553852137831</td>\n",
       "      <td>[fr_2__ct_7, fr_2__ct_answer_a, 1553852248429]</td>\n",
       "      <td>fr_2__ct_7</td>\n",
       "      <td>fr_2__ct_answer_a</td>\n",
       "      <td>1553852248429</td>\n",
       "    </tr>\n",
       "    <tr>\n",
       "      <th>21</th>\n",
       "      <td>1553852137831</td>\n",
       "      <td>[fr_2__ct_8, fr_2__ct_answer_a, 1553852248539]</td>\n",
       "      <td>fr_2__ct_8</td>\n",
       "      <td>fr_2__ct_answer_a</td>\n",
       "      <td>1553852248539</td>\n",
       "    </tr>\n",
       "    <tr>\n",
       "      <th>22</th>\n",
       "      <td>1553852137831</td>\n",
       "      <td>[fr_2__ct_9, fr_2__ct_answer_a, 1553852248677]</td>\n",
       "      <td>fr_2__ct_9</td>\n",
       "      <td>fr_2__ct_answer_a</td>\n",
       "      <td>1553852248677</td>\n",
       "    </tr>\n",
       "    <tr>\n",
       "      <th>23</th>\n",
       "      <td>1553852137831</td>\n",
       "      <td>[fr_2__ct_10, fr_2__ct_answer_a, 1553852248803]</td>\n",
       "      <td>fr_2__ct_10</td>\n",
       "      <td>fr_2__ct_answer_a</td>\n",
       "      <td>1553852248803</td>\n",
       "    </tr>\n",
       "    <tr>\n",
       "      <th>24</th>\n",
       "      <td>1553852137831</td>\n",
       "      <td>[dt_fr_02, asdad, 1553852299414]</td>\n",
       "      <td>dt_fr_02</td>\n",
       "      <td>asdad</td>\n",
       "      <td>1553852299414</td>\n",
       "    </tr>\n",
       "    <tr>\n",
       "      <th>25</th>\n",
       "      <td>1553852137831</td>\n",
       "      <td>[dt_fr_02, asdasd, 1553852299956]</td>\n",
       "      <td>dt_fr_02</td>\n",
       "      <td>asdasd</td>\n",
       "      <td>1553852299956</td>\n",
       "    </tr>\n",
       "    <tr>\n",
       "      <th>26</th>\n",
       "      <td>1553852137831</td>\n",
       "      <td>[dt_fr_02, 111, 1553852301282]</td>\n",
       "      <td>dt_fr_02</td>\n",
       "      <td>111</td>\n",
       "      <td>1553852301282</td>\n",
       "    </tr>\n",
       "    <tr>\n",
       "      <th>27</th>\n",
       "      <td>1553852137831</td>\n",
       "      <td>[dt_fr_02, 11122, 1553852302321]</td>\n",
       "      <td>dt_fr_02</td>\n",
       "      <td>11122</td>\n",
       "      <td>1553852302321</td>\n",
       "    </tr>\n",
       "  </tbody>\n",
       "</table>\n",
       "</div>"
      ],
      "text/plain": [
       "        api_token                                             data  \\\n",
       "0   1553851994644   [fr_2__ct_1, fr_2__ct_answer_b, 1553852035944]   \n",
       "1   1553851994644   [fr_2__ct_2, fr_2__ct_answer_b, 1553852036055]   \n",
       "2   1553851994644   [fr_2__ct_3, fr_2__ct_answer_a, 1553852037022]   \n",
       "3   1553851994644   [fr_2__ct_4, fr_2__ct_answer_a, 1553852037149]   \n",
       "4   1553851994644   [fr_2__ct_5, fr_2__ct_answer_a, 1553852037269]   \n",
       "5   1553851994644   [fr_2__ct_6, fr_2__ct_answer_e, 1553852038112]   \n",
       "6   1553851994644   [fr_2__ct_7, fr_2__ct_answer_e, 1553852038250]   \n",
       "7   1553851994644   [fr_2__ct_8, fr_2__ct_answer_e, 1553852038352]   \n",
       "8       undefined                 [dt_fr_02, asdas, 1553852091004]   \n",
       "9       undefined                   [dt_fr_02, 111, 1553852092034]   \n",
       "10      undefined                    [dt_fr_02, dt, 1553852094946]   \n",
       "11      undefined                    [dt_fr_02, dt, 1553852095393]   \n",
       "12      undefined                    [dt_fr_02, dt, 1553852095777]   \n",
       "13      undefined                    [dt_fr_02, dt, 1553852096198]   \n",
       "14  1553852137831   [fr_2__ct_1, fr_2__ct_answer_b, 1553852239251]   \n",
       "15  1553852137831   [fr_2__ct_2, fr_2__ct_answer_b, 1553852239360]   \n",
       "16  1553852137831   [fr_2__ct_3, fr_2__ct_answer_c, 1553852240452]   \n",
       "17  1553852137831   [fr_2__ct_4, fr_2__ct_answer_a, 1553852242155]   \n",
       "18  1553852137831   [fr_2__ct_5, fr_2__ct_answer_a, 1553852242260]   \n",
       "19  1553852137831   [fr_2__ct_6, fr_2__ct_answer_a, 1553852242416]   \n",
       "20  1553852137831   [fr_2__ct_7, fr_2__ct_answer_a, 1553852248429]   \n",
       "21  1553852137831   [fr_2__ct_8, fr_2__ct_answer_a, 1553852248539]   \n",
       "22  1553852137831   [fr_2__ct_9, fr_2__ct_answer_a, 1553852248677]   \n",
       "23  1553852137831  [fr_2__ct_10, fr_2__ct_answer_a, 1553852248803]   \n",
       "24  1553852137831                 [dt_fr_02, asdad, 1553852299414]   \n",
       "25  1553852137831                [dt_fr_02, asdasd, 1553852299956]   \n",
       "26  1553852137831                   [dt_fr_02, 111, 1553852301282]   \n",
       "27  1553852137831                 [dt_fr_02, 11122, 1553852302321]   \n",
       "\n",
       "    question_id             answer      timestamp  \n",
       "0    fr_2__ct_1  fr_2__ct_answer_b  1553852035944  \n",
       "1    fr_2__ct_2  fr_2__ct_answer_b  1553852036055  \n",
       "2    fr_2__ct_3  fr_2__ct_answer_a  1553852037022  \n",
       "3    fr_2__ct_4  fr_2__ct_answer_a  1553852037149  \n",
       "4    fr_2__ct_5  fr_2__ct_answer_a  1553852037269  \n",
       "5    fr_2__ct_6  fr_2__ct_answer_e  1553852038112  \n",
       "6    fr_2__ct_7  fr_2__ct_answer_e  1553852038250  \n",
       "7    fr_2__ct_8  fr_2__ct_answer_e  1553852038352  \n",
       "8      dt_fr_02              asdas  1553852091004  \n",
       "9      dt_fr_02                111  1553852092034  \n",
       "10     dt_fr_02                 dt  1553852094946  \n",
       "11     dt_fr_02                 dt  1553852095393  \n",
       "12     dt_fr_02                 dt  1553852095777  \n",
       "13     dt_fr_02                 dt  1553852096198  \n",
       "14   fr_2__ct_1  fr_2__ct_answer_b  1553852239251  \n",
       "15   fr_2__ct_2  fr_2__ct_answer_b  1553852239360  \n",
       "16   fr_2__ct_3  fr_2__ct_answer_c  1553852240452  \n",
       "17   fr_2__ct_4  fr_2__ct_answer_a  1553852242155  \n",
       "18   fr_2__ct_5  fr_2__ct_answer_a  1553852242260  \n",
       "19   fr_2__ct_6  fr_2__ct_answer_a  1553852242416  \n",
       "20   fr_2__ct_7  fr_2__ct_answer_a  1553852248429  \n",
       "21   fr_2__ct_8  fr_2__ct_answer_a  1553852248539  \n",
       "22   fr_2__ct_9  fr_2__ct_answer_a  1553852248677  \n",
       "23  fr_2__ct_10  fr_2__ct_answer_a  1553852248803  \n",
       "24     dt_fr_02              asdad  1553852299414  \n",
       "25     dt_fr_02             asdasd  1553852299956  \n",
       "26     dt_fr_02                111  1553852301282  \n",
       "27     dt_fr_02              11122  1553852302321  "
      ]
     },
     "execution_count": 63,
     "metadata": {},
     "output_type": "execute_result"
    }
   ],
   "source": [
    "answers"
   ]
  },
  {
   "cell_type": "code",
   "execution_count": 45,
   "metadata": {
    "ExecuteTime": {
     "end_time": "2019-03-29T09:46:54.840275Z",
     "start_time": "2019-03-29T09:46:54.813138Z"
    }
   },
   "outputs": [
    {
     "data": {
      "text/html": [
       "<div>\n",
       "<style scoped>\n",
       "    .dataframe tbody tr th:only-of-type {\n",
       "        vertical-align: middle;\n",
       "    }\n",
       "\n",
       "    .dataframe tbody tr th {\n",
       "        vertical-align: top;\n",
       "    }\n",
       "\n",
       "    .dataframe thead th {\n",
       "        text-align: right;\n",
       "    }\n",
       "</style>\n",
       "<table border=\"1\" class=\"dataframe\">\n",
       "  <thead>\n",
       "    <tr style=\"text-align: right;\">\n",
       "      <th></th>\n",
       "      <th>0</th>\n",
       "      <th>api_token</th>\n",
       "    </tr>\n",
       "  </thead>\n",
       "  <tbody>\n",
       "    <tr>\n",
       "      <th>0</th>\n",
       "      <td>fr_2__ct_1</td>\n",
       "      <td>1553851994644</td>\n",
       "    </tr>\n",
       "    <tr>\n",
       "      <th>1</th>\n",
       "      <td>fr_2__ct_answer_b</td>\n",
       "      <td>1553851994644</td>\n",
       "    </tr>\n",
       "    <tr>\n",
       "      <th>2</th>\n",
       "      <td>1553852035944</td>\n",
       "      <td>1553851994644</td>\n",
       "    </tr>\n",
       "  </tbody>\n",
       "</table>\n",
       "</div>"
      ],
      "text/plain": [
       "                   0      api_token\n",
       "0         fr_2__ct_1  1553851994644\n",
       "1  fr_2__ct_answer_b  1553851994644\n",
       "2      1553852035944  1553851994644"
      ]
     },
     "execution_count": 45,
     "metadata": {},
     "output_type": "execute_result"
    }
   ],
   "source": [
    "json_normalize(answers[0], 'data', ['api_token'])"
   ]
  },
  {
   "cell_type": "code",
   "execution_count": 33,
   "metadata": {
    "ExecuteTime": {
     "end_time": "2019-03-29T09:42:36.221137Z",
     "start_time": "2019-03-29T09:42:36.146759Z"
    }
   },
   "outputs": [
    {
     "data": {
      "text/html": [
       "<div>\n",
       "<style scoped>\n",
       "    .dataframe tbody tr th:only-of-type {\n",
       "        vertical-align: middle;\n",
       "    }\n",
       "\n",
       "    .dataframe tbody tr th {\n",
       "        vertical-align: top;\n",
       "    }\n",
       "\n",
       "    .dataframe thead th {\n",
       "        text-align: right;\n",
       "    }\n",
       "</style>\n",
       "<table border=\"1\" class=\"dataframe\">\n",
       "  <thead>\n",
       "    <tr style=\"text-align: right;\">\n",
       "      <th></th>\n",
       "      <th>api_token</th>\n",
       "      <th>data</th>\n",
       "    </tr>\n",
       "  </thead>\n",
       "  <tbody>\n",
       "    <tr>\n",
       "      <th>0</th>\n",
       "      <td>1553851994644</td>\n",
       "      <td>[fr_2__ct_1, fr_2__ct_answer_b, 1553852035944]</td>\n",
       "    </tr>\n",
       "    <tr>\n",
       "      <th>1</th>\n",
       "      <td>1553851994644</td>\n",
       "      <td>[fr_2__ct_2, fr_2__ct_answer_b, 1553852036055]</td>\n",
       "    </tr>\n",
       "    <tr>\n",
       "      <th>2</th>\n",
       "      <td>1553851994644</td>\n",
       "      <td>[fr_2__ct_3, fr_2__ct_answer_a, 1553852037022]</td>\n",
       "    </tr>\n",
       "    <tr>\n",
       "      <th>3</th>\n",
       "      <td>1553851994644</td>\n",
       "      <td>[fr_2__ct_4, fr_2__ct_answer_a, 1553852037149]</td>\n",
       "    </tr>\n",
       "    <tr>\n",
       "      <th>4</th>\n",
       "      <td>1553851994644</td>\n",
       "      <td>[fr_2__ct_5, fr_2__ct_answer_a, 1553852037269]</td>\n",
       "    </tr>\n",
       "    <tr>\n",
       "      <th>5</th>\n",
       "      <td>1553851994644</td>\n",
       "      <td>[fr_2__ct_6, fr_2__ct_answer_e, 1553852038112]</td>\n",
       "    </tr>\n",
       "    <tr>\n",
       "      <th>6</th>\n",
       "      <td>1553851994644</td>\n",
       "      <td>[fr_2__ct_7, fr_2__ct_answer_e, 1553852038250]</td>\n",
       "    </tr>\n",
       "    <tr>\n",
       "      <th>7</th>\n",
       "      <td>1553851994644</td>\n",
       "      <td>[fr_2__ct_8, fr_2__ct_answer_e, 1553852038352]</td>\n",
       "    </tr>\n",
       "    <tr>\n",
       "      <th>8</th>\n",
       "      <td>undefined</td>\n",
       "      <td>[dt_fr_02, asdas, 1553852091004]</td>\n",
       "    </tr>\n",
       "    <tr>\n",
       "      <th>9</th>\n",
       "      <td>undefined</td>\n",
       "      <td>[dt_fr_02, 111, 1553852092034]</td>\n",
       "    </tr>\n",
       "    <tr>\n",
       "      <th>10</th>\n",
       "      <td>undefined</td>\n",
       "      <td>[dt_fr_02, dt, 1553852094946]</td>\n",
       "    </tr>\n",
       "    <tr>\n",
       "      <th>11</th>\n",
       "      <td>undefined</td>\n",
       "      <td>[dt_fr_02, dt, 1553852095393]</td>\n",
       "    </tr>\n",
       "    <tr>\n",
       "      <th>12</th>\n",
       "      <td>undefined</td>\n",
       "      <td>[dt_fr_02, dt, 1553852095777]</td>\n",
       "    </tr>\n",
       "    <tr>\n",
       "      <th>13</th>\n",
       "      <td>undefined</td>\n",
       "      <td>[dt_fr_02, dt, 1553852096198]</td>\n",
       "    </tr>\n",
       "    <tr>\n",
       "      <th>14</th>\n",
       "      <td>1553852137831</td>\n",
       "      <td>[fr_2__ct_1, fr_2__ct_answer_b, 1553852239251]</td>\n",
       "    </tr>\n",
       "    <tr>\n",
       "      <th>15</th>\n",
       "      <td>1553852137831</td>\n",
       "      <td>[fr_2__ct_2, fr_2__ct_answer_b, 1553852239360]</td>\n",
       "    </tr>\n",
       "    <tr>\n",
       "      <th>16</th>\n",
       "      <td>1553852137831</td>\n",
       "      <td>[fr_2__ct_3, fr_2__ct_answer_c, 1553852240452]</td>\n",
       "    </tr>\n",
       "    <tr>\n",
       "      <th>17</th>\n",
       "      <td>1553852137831</td>\n",
       "      <td>[fr_2__ct_4, fr_2__ct_answer_a, 1553852242155]</td>\n",
       "    </tr>\n",
       "    <tr>\n",
       "      <th>18</th>\n",
       "      <td>1553852137831</td>\n",
       "      <td>[fr_2__ct_5, fr_2__ct_answer_a, 1553852242260]</td>\n",
       "    </tr>\n",
       "    <tr>\n",
       "      <th>19</th>\n",
       "      <td>1553852137831</td>\n",
       "      <td>[fr_2__ct_6, fr_2__ct_answer_a, 1553852242416]</td>\n",
       "    </tr>\n",
       "    <tr>\n",
       "      <th>20</th>\n",
       "      <td>1553852137831</td>\n",
       "      <td>[fr_2__ct_7, fr_2__ct_answer_a, 1553852248429]</td>\n",
       "    </tr>\n",
       "    <tr>\n",
       "      <th>21</th>\n",
       "      <td>1553852137831</td>\n",
       "      <td>[fr_2__ct_8, fr_2__ct_answer_a, 1553852248539]</td>\n",
       "    </tr>\n",
       "    <tr>\n",
       "      <th>22</th>\n",
       "      <td>1553852137831</td>\n",
       "      <td>[fr_2__ct_9, fr_2__ct_answer_a, 1553852248677]</td>\n",
       "    </tr>\n",
       "    <tr>\n",
       "      <th>23</th>\n",
       "      <td>1553852137831</td>\n",
       "      <td>[fr_2__ct_10, fr_2__ct_answer_a, 1553852248803]</td>\n",
       "    </tr>\n",
       "    <tr>\n",
       "      <th>24</th>\n",
       "      <td>1553852137831</td>\n",
       "      <td>[dt_fr_02, asdad, 1553852299414]</td>\n",
       "    </tr>\n",
       "    <tr>\n",
       "      <th>25</th>\n",
       "      <td>1553852137831</td>\n",
       "      <td>[dt_fr_02, asdasd, 1553852299956]</td>\n",
       "    </tr>\n",
       "    <tr>\n",
       "      <th>26</th>\n",
       "      <td>1553852137831</td>\n",
       "      <td>[dt_fr_02, 111, 1553852301282]</td>\n",
       "    </tr>\n",
       "    <tr>\n",
       "      <th>27</th>\n",
       "      <td>1553852137831</td>\n",
       "      <td>[dt_fr_02, 11122, 1553852302321]</td>\n",
       "    </tr>\n",
       "  </tbody>\n",
       "</table>\n",
       "</div>"
      ],
      "text/plain": [
       "        api_token                                             data\n",
       "0   1553851994644   [fr_2__ct_1, fr_2__ct_answer_b, 1553852035944]\n",
       "1   1553851994644   [fr_2__ct_2, fr_2__ct_answer_b, 1553852036055]\n",
       "2   1553851994644   [fr_2__ct_3, fr_2__ct_answer_a, 1553852037022]\n",
       "3   1553851994644   [fr_2__ct_4, fr_2__ct_answer_a, 1553852037149]\n",
       "4   1553851994644   [fr_2__ct_5, fr_2__ct_answer_a, 1553852037269]\n",
       "5   1553851994644   [fr_2__ct_6, fr_2__ct_answer_e, 1553852038112]\n",
       "6   1553851994644   [fr_2__ct_7, fr_2__ct_answer_e, 1553852038250]\n",
       "7   1553851994644   [fr_2__ct_8, fr_2__ct_answer_e, 1553852038352]\n",
       "8       undefined                 [dt_fr_02, asdas, 1553852091004]\n",
       "9       undefined                   [dt_fr_02, 111, 1553852092034]\n",
       "10      undefined                    [dt_fr_02, dt, 1553852094946]\n",
       "11      undefined                    [dt_fr_02, dt, 1553852095393]\n",
       "12      undefined                    [dt_fr_02, dt, 1553852095777]\n",
       "13      undefined                    [dt_fr_02, dt, 1553852096198]\n",
       "14  1553852137831   [fr_2__ct_1, fr_2__ct_answer_b, 1553852239251]\n",
       "15  1553852137831   [fr_2__ct_2, fr_2__ct_answer_b, 1553852239360]\n",
       "16  1553852137831   [fr_2__ct_3, fr_2__ct_answer_c, 1553852240452]\n",
       "17  1553852137831   [fr_2__ct_4, fr_2__ct_answer_a, 1553852242155]\n",
       "18  1553852137831   [fr_2__ct_5, fr_2__ct_answer_a, 1553852242260]\n",
       "19  1553852137831   [fr_2__ct_6, fr_2__ct_answer_a, 1553852242416]\n",
       "20  1553852137831   [fr_2__ct_7, fr_2__ct_answer_a, 1553852248429]\n",
       "21  1553852137831   [fr_2__ct_8, fr_2__ct_answer_a, 1553852248539]\n",
       "22  1553852137831   [fr_2__ct_9, fr_2__ct_answer_a, 1553852248677]\n",
       "23  1553852137831  [fr_2__ct_10, fr_2__ct_answer_a, 1553852248803]\n",
       "24  1553852137831                 [dt_fr_02, asdad, 1553852299414]\n",
       "25  1553852137831                [dt_fr_02, asdasd, 1553852299956]\n",
       "26  1553852137831                   [dt_fr_02, 111, 1553852301282]\n",
       "27  1553852137831                 [dt_fr_02, 11122, 1553852302321]"
      ]
     },
     "execution_count": 33,
     "metadata": {},
     "output_type": "execute_result"
    }
   ],
   "source": [
    "answers"
   ]
  },
  {
   "cell_type": "code",
   "execution_count": 26,
   "metadata": {
    "ExecuteTime": {
     "end_time": "2019-03-29T09:40:06.549545Z",
     "start_time": "2019-03-29T09:40:06.541360Z"
    }
   },
   "outputs": [],
   "source": [
    "answers = pd.DataFrame(answers)"
   ]
  },
  {
   "cell_type": "code",
   "execution_count": 28,
   "metadata": {
    "ExecuteTime": {
     "end_time": "2019-03-29T09:40:16.944646Z",
     "start_time": "2019-03-29T09:40:16.885640Z"
    }
   },
   "outputs": [
    {
     "ename": "ValueError",
     "evalue": "cannot label index with a null key",
     "output_type": "error",
     "traceback": [
      "\u001b[0;31m-----------------------------------------------\u001b[0m",
      "\u001b[0;31mValueError\u001b[0m    Traceback (most recent call last)",
      "\u001b[0;32m<ipython-input-28-bcd5a6c5d80d>\u001b[0m in \u001b[0;36m<module>\u001b[0;34m()\u001b[0m\n\u001b[0;32m----> 1\u001b[0;31m \u001b[0manswers\u001b[0m\u001b[0;34m.\u001b[0m\u001b[0mpivot\u001b[0m\u001b[0;34m(\u001b[0m\u001b[0;34m)\u001b[0m\u001b[0;34m\u001b[0m\u001b[0;34m\u001b[0m\u001b[0m\n\u001b[0m",
      "\u001b[0;32m~/.local/bin/miniconda3/envs/sci/lib/python3.6/site-packages/pandas/core/frame.py\u001b[0m in \u001b[0;36mpivot\u001b[0;34m(self, index, columns, values)\u001b[0m\n\u001b[1;32m   5192\u001b[0m         \"\"\"\n\u001b[1;32m   5193\u001b[0m         \u001b[0;32mfrom\u001b[0m \u001b[0mpandas\u001b[0m\u001b[0;34m.\u001b[0m\u001b[0mcore\u001b[0m\u001b[0;34m.\u001b[0m\u001b[0mreshape\u001b[0m\u001b[0;34m.\u001b[0m\u001b[0mreshape\u001b[0m \u001b[0;32mimport\u001b[0m \u001b[0mpivot\u001b[0m\u001b[0;34m\u001b[0m\u001b[0;34m\u001b[0m\u001b[0m\n\u001b[0;32m-> 5194\u001b[0;31m         \u001b[0;32mreturn\u001b[0m \u001b[0mpivot\u001b[0m\u001b[0;34m(\u001b[0m\u001b[0mself\u001b[0m\u001b[0;34m,\u001b[0m \u001b[0mindex\u001b[0m\u001b[0;34m=\u001b[0m\u001b[0mindex\u001b[0m\u001b[0;34m,\u001b[0m \u001b[0mcolumns\u001b[0m\u001b[0;34m=\u001b[0m\u001b[0mcolumns\u001b[0m\u001b[0;34m,\u001b[0m \u001b[0mvalues\u001b[0m\u001b[0;34m=\u001b[0m\u001b[0mvalues\u001b[0m\u001b[0;34m)\u001b[0m\u001b[0;34m\u001b[0m\u001b[0;34m\u001b[0m\u001b[0m\n\u001b[0m\u001b[1;32m   5195\u001b[0m \u001b[0;34m\u001b[0m\u001b[0m\n\u001b[1;32m   5196\u001b[0m     _shared_docs['pivot_table'] = \"\"\"\n",
      "\u001b[0;32m~/.local/bin/miniconda3/envs/sci/lib/python3.6/site-packages/pandas/core/reshape/reshape.py\u001b[0m in \u001b[0;36mpivot\u001b[0;34m(self, index, columns, values)\u001b[0m\n\u001b[1;32m    398\u001b[0m         \u001b[0mcols\u001b[0m \u001b[0;34m=\u001b[0m \u001b[0;34m[\u001b[0m\u001b[0mcolumns\u001b[0m\u001b[0;34m]\u001b[0m \u001b[0;32mif\u001b[0m \u001b[0mindex\u001b[0m \u001b[0;32mis\u001b[0m \u001b[0;32mNone\u001b[0m \u001b[0;32melse\u001b[0m \u001b[0;34m[\u001b[0m\u001b[0mindex\u001b[0m\u001b[0;34m,\u001b[0m \u001b[0mcolumns\u001b[0m\u001b[0;34m]\u001b[0m\u001b[0;34m\u001b[0m\u001b[0;34m\u001b[0m\u001b[0m\n\u001b[1;32m    399\u001b[0m         \u001b[0mappend\u001b[0m \u001b[0;34m=\u001b[0m \u001b[0mindex\u001b[0m \u001b[0;32mis\u001b[0m \u001b[0;32mNone\u001b[0m\u001b[0;34m\u001b[0m\u001b[0;34m\u001b[0m\u001b[0m\n\u001b[0;32m--> 400\u001b[0;31m         \u001b[0mindexed\u001b[0m \u001b[0;34m=\u001b[0m \u001b[0mself\u001b[0m\u001b[0;34m.\u001b[0m\u001b[0mset_index\u001b[0m\u001b[0;34m(\u001b[0m\u001b[0mcols\u001b[0m\u001b[0;34m,\u001b[0m \u001b[0mappend\u001b[0m\u001b[0;34m=\u001b[0m\u001b[0mappend\u001b[0m\u001b[0;34m)\u001b[0m\u001b[0;34m\u001b[0m\u001b[0;34m\u001b[0m\u001b[0m\n\u001b[0m\u001b[1;32m    401\u001b[0m     \u001b[0;32melse\u001b[0m\u001b[0;34m:\u001b[0m\u001b[0;34m\u001b[0m\u001b[0;34m\u001b[0m\u001b[0m\n\u001b[1;32m    402\u001b[0m         \u001b[0;32mif\u001b[0m \u001b[0mindex\u001b[0m \u001b[0;32mis\u001b[0m \u001b[0;32mNone\u001b[0m\u001b[0;34m:\u001b[0m\u001b[0;34m\u001b[0m\u001b[0;34m\u001b[0m\u001b[0m\n",
      "\u001b[0;32m~/.local/bin/miniconda3/envs/sci/lib/python3.6/site-packages/pandas/core/frame.py\u001b[0m in \u001b[0;36mset_index\u001b[0;34m(self, keys, drop, append, inplace, verify_integrity)\u001b[0m\n\u001b[1;32m   3907\u001b[0m                 \u001b[0mnames\u001b[0m\u001b[0;34m.\u001b[0m\u001b[0mappend\u001b[0m\u001b[0;34m(\u001b[0m\u001b[0;32mNone\u001b[0m\u001b[0;34m)\u001b[0m\u001b[0;34m\u001b[0m\u001b[0;34m\u001b[0m\u001b[0m\n\u001b[1;32m   3908\u001b[0m             \u001b[0;32melse\u001b[0m\u001b[0;34m:\u001b[0m\u001b[0;34m\u001b[0m\u001b[0;34m\u001b[0m\u001b[0m\n\u001b[0;32m-> 3909\u001b[0;31m                 \u001b[0mlevel\u001b[0m \u001b[0;34m=\u001b[0m \u001b[0mframe\u001b[0m\u001b[0;34m[\u001b[0m\u001b[0mcol\u001b[0m\u001b[0;34m]\u001b[0m\u001b[0;34m.\u001b[0m\u001b[0m_values\u001b[0m\u001b[0;34m\u001b[0m\u001b[0;34m\u001b[0m\u001b[0m\n\u001b[0m\u001b[1;32m   3910\u001b[0m                 \u001b[0mnames\u001b[0m\u001b[0;34m.\u001b[0m\u001b[0mappend\u001b[0m\u001b[0;34m(\u001b[0m\u001b[0mcol\u001b[0m\u001b[0;34m)\u001b[0m\u001b[0;34m\u001b[0m\u001b[0;34m\u001b[0m\u001b[0m\n\u001b[1;32m   3911\u001b[0m                 \u001b[0;32mif\u001b[0m \u001b[0mdrop\u001b[0m\u001b[0;34m:\u001b[0m\u001b[0;34m\u001b[0m\u001b[0;34m\u001b[0m\u001b[0m\n",
      "\u001b[0;32m~/.local/bin/miniconda3/envs/sci/lib/python3.6/site-packages/pandas/core/frame.py\u001b[0m in \u001b[0;36m__getitem__\u001b[0;34m(self, key)\u001b[0m\n\u001b[1;32m   2686\u001b[0m             \u001b[0;32mreturn\u001b[0m \u001b[0mself\u001b[0m\u001b[0;34m.\u001b[0m\u001b[0m_getitem_multilevel\u001b[0m\u001b[0;34m(\u001b[0m\u001b[0mkey\u001b[0m\u001b[0;34m)\u001b[0m\u001b[0;34m\u001b[0m\u001b[0;34m\u001b[0m\u001b[0m\n\u001b[1;32m   2687\u001b[0m         \u001b[0;32melse\u001b[0m\u001b[0;34m:\u001b[0m\u001b[0;34m\u001b[0m\u001b[0;34m\u001b[0m\u001b[0m\n\u001b[0;32m-> 2688\u001b[0;31m             \u001b[0;32mreturn\u001b[0m \u001b[0mself\u001b[0m\u001b[0;34m.\u001b[0m\u001b[0m_getitem_column\u001b[0m\u001b[0;34m(\u001b[0m\u001b[0mkey\u001b[0m\u001b[0;34m)\u001b[0m\u001b[0;34m\u001b[0m\u001b[0;34m\u001b[0m\u001b[0m\n\u001b[0m\u001b[1;32m   2689\u001b[0m \u001b[0;34m\u001b[0m\u001b[0m\n\u001b[1;32m   2690\u001b[0m     \u001b[0;32mdef\u001b[0m \u001b[0m_getitem_column\u001b[0m\u001b[0;34m(\u001b[0m\u001b[0mself\u001b[0m\u001b[0;34m,\u001b[0m \u001b[0mkey\u001b[0m\u001b[0;34m)\u001b[0m\u001b[0;34m:\u001b[0m\u001b[0;34m\u001b[0m\u001b[0;34m\u001b[0m\u001b[0m\n",
      "\u001b[0;32m~/.local/bin/miniconda3/envs/sci/lib/python3.6/site-packages/pandas/core/frame.py\u001b[0m in \u001b[0;36m_getitem_column\u001b[0;34m(self, key)\u001b[0m\n\u001b[1;32m   2693\u001b[0m         \u001b[0;31m# get column\u001b[0m\u001b[0;34m\u001b[0m\u001b[0;34m\u001b[0m\u001b[0;34m\u001b[0m\u001b[0m\n\u001b[1;32m   2694\u001b[0m         \u001b[0;32mif\u001b[0m \u001b[0mself\u001b[0m\u001b[0;34m.\u001b[0m\u001b[0mcolumns\u001b[0m\u001b[0;34m.\u001b[0m\u001b[0mis_unique\u001b[0m\u001b[0;34m:\u001b[0m\u001b[0;34m\u001b[0m\u001b[0;34m\u001b[0m\u001b[0m\n\u001b[0;32m-> 2695\u001b[0;31m             \u001b[0;32mreturn\u001b[0m \u001b[0mself\u001b[0m\u001b[0;34m.\u001b[0m\u001b[0m_get_item_cache\u001b[0m\u001b[0;34m(\u001b[0m\u001b[0mkey\u001b[0m\u001b[0;34m)\u001b[0m\u001b[0;34m\u001b[0m\u001b[0;34m\u001b[0m\u001b[0m\n\u001b[0m\u001b[1;32m   2696\u001b[0m \u001b[0;34m\u001b[0m\u001b[0m\n\u001b[1;32m   2697\u001b[0m         \u001b[0;31m# duplicate columns & possible reduce dimensionality\u001b[0m\u001b[0;34m\u001b[0m\u001b[0;34m\u001b[0m\u001b[0;34m\u001b[0m\u001b[0m\n",
      "\u001b[0;32m~/.local/bin/miniconda3/envs/sci/lib/python3.6/site-packages/pandas/core/generic.py\u001b[0m in \u001b[0;36m_get_item_cache\u001b[0;34m(self, item)\u001b[0m\n\u001b[1;32m   2487\u001b[0m         \u001b[0mres\u001b[0m \u001b[0;34m=\u001b[0m \u001b[0mcache\u001b[0m\u001b[0;34m.\u001b[0m\u001b[0mget\u001b[0m\u001b[0;34m(\u001b[0m\u001b[0mitem\u001b[0m\u001b[0;34m)\u001b[0m\u001b[0;34m\u001b[0m\u001b[0;34m\u001b[0m\u001b[0m\n\u001b[1;32m   2488\u001b[0m         \u001b[0;32mif\u001b[0m \u001b[0mres\u001b[0m \u001b[0;32mis\u001b[0m \u001b[0;32mNone\u001b[0m\u001b[0;34m:\u001b[0m\u001b[0;34m\u001b[0m\u001b[0;34m\u001b[0m\u001b[0m\n\u001b[0;32m-> 2489\u001b[0;31m             \u001b[0mvalues\u001b[0m \u001b[0;34m=\u001b[0m \u001b[0mself\u001b[0m\u001b[0;34m.\u001b[0m\u001b[0m_data\u001b[0m\u001b[0;34m.\u001b[0m\u001b[0mget\u001b[0m\u001b[0;34m(\u001b[0m\u001b[0mitem\u001b[0m\u001b[0;34m)\u001b[0m\u001b[0;34m\u001b[0m\u001b[0;34m\u001b[0m\u001b[0m\n\u001b[0m\u001b[1;32m   2490\u001b[0m             \u001b[0mres\u001b[0m \u001b[0;34m=\u001b[0m \u001b[0mself\u001b[0m\u001b[0;34m.\u001b[0m\u001b[0m_box_item_values\u001b[0m\u001b[0;34m(\u001b[0m\u001b[0mitem\u001b[0m\u001b[0;34m,\u001b[0m \u001b[0mvalues\u001b[0m\u001b[0;34m)\u001b[0m\u001b[0;34m\u001b[0m\u001b[0;34m\u001b[0m\u001b[0m\n\u001b[1;32m   2491\u001b[0m             \u001b[0mcache\u001b[0m\u001b[0;34m[\u001b[0m\u001b[0mitem\u001b[0m\u001b[0;34m]\u001b[0m \u001b[0;34m=\u001b[0m \u001b[0mres\u001b[0m\u001b[0;34m\u001b[0m\u001b[0;34m\u001b[0m\u001b[0m\n",
      "\u001b[0;32m~/.local/bin/miniconda3/envs/sci/lib/python3.6/site-packages/pandas/core/internals.py\u001b[0m in \u001b[0;36mget\u001b[0;34m(self, item, fastpath)\u001b[0m\n\u001b[1;32m   4122\u001b[0m                         \u001b[0mloc\u001b[0m \u001b[0;34m=\u001b[0m \u001b[0mindexer\u001b[0m\u001b[0;34m.\u001b[0m\u001b[0mitem\u001b[0m\u001b[0;34m(\u001b[0m\u001b[0;34m)\u001b[0m\u001b[0;34m\u001b[0m\u001b[0;34m\u001b[0m\u001b[0m\n\u001b[1;32m   4123\u001b[0m                     \u001b[0;32melse\u001b[0m\u001b[0;34m:\u001b[0m\u001b[0;34m\u001b[0m\u001b[0;34m\u001b[0m\u001b[0m\n\u001b[0;32m-> 4124\u001b[0;31m                         \u001b[0;32mraise\u001b[0m \u001b[0mValueError\u001b[0m\u001b[0;34m(\u001b[0m\u001b[0;34m\"cannot label index with a null key\"\u001b[0m\u001b[0;34m)\u001b[0m\u001b[0;34m\u001b[0m\u001b[0;34m\u001b[0m\u001b[0m\n\u001b[0m\u001b[1;32m   4125\u001b[0m \u001b[0;34m\u001b[0m\u001b[0m\n\u001b[1;32m   4126\u001b[0m             \u001b[0;32mreturn\u001b[0m \u001b[0mself\u001b[0m\u001b[0;34m.\u001b[0m\u001b[0miget\u001b[0m\u001b[0;34m(\u001b[0m\u001b[0mloc\u001b[0m\u001b[0;34m,\u001b[0m \u001b[0mfastpath\u001b[0m\u001b[0;34m=\u001b[0m\u001b[0mfastpath\u001b[0m\u001b[0;34m)\u001b[0m\u001b[0;34m\u001b[0m\u001b[0;34m\u001b[0m\u001b[0m\n",
      "\u001b[0;31mValueError\u001b[0m: cannot label index with a null key"
     ]
    }
   ],
   "source": []
  },
  {
   "cell_type": "code",
   "execution_count": 18,
   "metadata": {
    "ExecuteTime": {
     "end_time": "2019-03-29T09:34:06.764206Z",
     "start_time": "2019-03-29T09:34:06.753259Z"
    }
   },
   "outputs": [
    {
     "data": {
      "text/plain": [
       "[{'api_token': '1553851994644',\n",
       "  'data': {'gender': 'f',\n",
       "   'age': '121',\n",
       "   'field_of_study': 'asd',\n",
       "   'country_of_origin': 'asd',\n",
       "   'mother_tongue': 'asd',\n",
       "   'played_music_before': True,\n",
       "   'email': '',\n",
       "   'user_id': '1010'}},\n",
       " {'api_token': '1553851994644',\n",
       "  'data': {'user_id': '1010',\n",
       "   'data': [{'timestamp': 1553852024820,\n",
       "     'values': {'relaxed': 50,\n",
       "      'tired': 50,\n",
       "      'happy': 50,\n",
       "      'energetic': 20.75,\n",
       "      'sad': 50}}]}}]"
      ]
     },
     "execution_count": 18,
     "metadata": {},
     "output_type": "execute_result"
    }
   ],
   "source": [
    "additional_data"
   ]
  },
  {
   "cell_type": "code",
   "execution_count": 38,
   "metadata": {
    "ExecuteTime": {
     "end_time": "2019-03-28T13:42:12.985580Z",
     "start_time": "2019-03-28T13:42:12.870735Z"
    }
   },
   "outputs": [
    {
     "name": "stdout",
     "output_type": "stream",
     "text": [
      "1010.json\r\n"
     ]
    }
   ],
   "source": [
    "ls ../data/additional_data/"
   ]
  },
  {
   "cell_type": "code",
   "execution_count": 14,
   "metadata": {
    "ExecuteTime": {
     "end_time": "2019-03-29T09:33:35.772328Z",
     "start_time": "2019-03-29T09:33:35.523037Z"
    }
   },
   "outputs": [],
   "source": [
    "!rm ../data/answers/*\n",
    "!rm ../data/additional_data/*"
   ]
  },
  {
   "cell_type": "code",
   "execution_count": 39,
   "metadata": {
    "ExecuteTime": {
     "end_time": "2019-03-28T13:42:15.510213Z",
     "start_time": "2019-03-28T13:42:15.389844Z"
    }
   },
   "outputs": [
    {
     "name": "stdout",
     "output_type": "stream",
     "text": [
      "[{\"api_token\": \"1553778412490\", \"data\": {\"age\": \"\", \"field_of_study\": \"\", \"country_of_origin\": \"\", \"mother_tongue\": \"\", \"email\": \"\", \"user_id\": \"1010\"}}, {\"api_token\": \"1553778412490\", \"data\": {\"user_id\": \"1010\", \"data\": [{\"timestamp\": \"28/03/2019, 14:06:56\", \"values\": [{\"mood_name\": \"relaxed\", \"mood_value\": 50}, {\"mood_name\": \"tired\", \"mood_value\": 50}, {\"mood_name\": \"happy\", \"mood_value\": 50}, {\"mood_name\": \"energetic\", \"mood_value\": 50}, {\"mood_name\": \"sad\", \"mood_value\": 50}]}]}}, {\"api_token\": \"1553778431093\", \"data\": {\"age\": \"\", \"field_of_study\": \"\", \"country_of_origin\": \"\", \"mother_tongue\": \"\", \"email\": \"\", \"user_id\": \"1010\"}}, {\"api_token\": \"1553778431093\", \"data\": {\"user_id\": \"1010\", \"data\": [{\"timestamp\": \"28/03/2019, 14:07:15\", \"values\": [{\"mood_name\": \"relaxed\", \"mood_value\": 50}, {\"mood_name\": \"tired\", \"mood_value\": 50}, {\"mood_name\": \"happy\", \"mood_value\": 50}, {\"mood_name\": \"energetic\", \"mood_value\": 50}, {\"mood_name\": \"sad\", \"mood_value\": 50}]}]}}, {\"api_token\": \"1553778482405\", \"data\": {\"age\": \"\", \"field_of_study\": \"\", \"country_of_origin\": \"\", \"mother_tongue\": \"\", \"email\": \"\", \"user_id\": \"1010\"}}, {\"api_token\": \"1553778482405\", \"data\": {\"user_id\": \"1010\", \"data\": [{\"timestamp\": \"28/03/2019, 14:08:06\", \"values\": [{\"mood_name\": \"relaxed\", \"mood_value\": 50}, {\"mood_name\": \"tired\", \"mood_value\": 50}, {\"mood_name\": \"happy\", \"mood_value\": 50}, {\"mood_name\": \"energetic\", \"mood_value\": 50}, {\"mood_name\": \"sad\", \"mood_value\": 50}]}]}}, {\"api_token\": \"1553778910184\", \"data\": {\"age\": \"\", \"field_of_study\": \"\", \"country_of_origin\": \"\", \"mother_tongue\": \"\", \"email\": \"\", \"user_id\": \"1010\"}}, {\"api_token\": \"1553778910184\", \"data\": {\"user_id\": \"1010\", \"data\": [{\"timestamp\": 1553778920862, \"values\": [{\"mood_name\": \"relaxed\", \"mood_value\": 50}, {\"mood_name\": \"tired\", \"mood_value\": 50}, {\"mood_name\": \"happy\", \"mood_value\": 50}, {\"mood_name\": \"energetic\", \"mood_value\": 50}, {\"mood_name\": \"sad\", \"mood_value\": 50}]}]}}, {\"api_token\": \"1553778910184\", \"data\": {\"user_id\": \"1010\", \"data\": [{\"timestamp\": 1553778920862, \"values\": [{\"mood_name\": \"relaxed\", \"mood_value\": 50}, {\"mood_name\": \"tired\", \"mood_value\": 50}, {\"mood_name\": \"happy\", \"mood_value\": 50}, {\"mood_name\": \"energetic\", \"mood_value\": 50}, {\"mood_name\": \"sad\", \"mood_value\": 50}]}, {\"timestamp\": 1553779043951, \"values\": [{\"mood_name\": \"relaxed\", \"mood_value\": 50}, {\"mood_name\": \"tired\", \"mood_value\": 50}, {\"mood_name\": \"happy\", \"mood_value\": 50}, {\"mood_name\": \"energetic\", \"mood_value\": 50}, {\"mood_name\": \"sad\", \"mood_value\": 50}]}]}}, {\"api_token\": \"1553779237105\", \"data\": {\"age\": \"\", \"field_of_study\": \"\", \"country_of_origin\": \"\", \"mother_tongue\": \"\", \"email\": \"\", \"user_id\": \"1010\"}}, {\"api_token\": \"1553779489283\", \"data\": {\"age\": \"\", \"field_of_study\": \"\", \"country_of_origin\": \"\", \"mother_tongue\": \"\", \"email\": \"\", \"user_id\": \"1010\"}}, {\"api_token\": \"1553779594877\", \"data\": {\"age\": \"\", \"field_of_study\": \"\", \"country_of_origin\": \"\", \"mother_tongue\": \"\", \"email\": \"\", \"user_id\": \"1010\"}}, {\"api_token\": \"1553779594877\", \"data\": {\"user_id\": \"1010\", \"data\": [{\"timestamp\": 1553779598842, \"values\": [{\"mood_name\": \"relaxed\", \"mood_value\": 50}, {\"mood_name\": \"tired\", \"mood_value\": 50}, {\"mood_name\": \"happy\", \"mood_value\": 50}, {\"mood_name\": \"energetic\", \"mood_value\": 50}, {\"mood_name\": \"sad\", \"mood_value\": 50}]}]}}, {\"api_token\": \"1553779609324\", \"data\": {\"age\": \"\", \"field_of_study\": \"\", \"country_of_origin\": \"\", \"mother_tongue\": \"\", \"email\": \"\", \"user_id\": \"1010\"}}, {\"api_token\": \"1553779718219\", \"data\": {\"age\": \"\", \"field_of_study\": \"\", \"country_of_origin\": \"\", \"mother_tongue\": \"\", \"email\": \"\", \"user_id\": \"1010\"}}, {\"api_token\": \"1553780502932\", \"data\": {\"age\": \"\", \"field_of_study\": \"\", \"country_of_origin\": \"\", \"mother_tongue\": \"\", \"email\": \"\", \"user_id\": \"1010\"}}, {\"api_token\": \"1553780502932\", \"data\": {\"user_id\": \"1010\", \"data\": [{\"timestamp\": 1553780522964, \"values\": [{\"mood_name\": \"relaxed\", \"mood_value\": 50}, {\"mood_name\": \"tired\", \"mood_value\": 50}, {\"mood_name\": \"happy\", \"mood_value\": 50}, {\"mood_name\": \"energetic\", \"mood_value\": 50}, {\"mood_name\": \"sad\", \"mood_value\": 50}]}]}}]"
     ]
    }
   ],
   "source": [
    "cat ../data/additional_data/1010.json"
   ]
  },
  {
   "cell_type": "code",
   "execution_count": 37,
   "metadata": {
    "ExecuteTime": {
     "end_time": "2019-03-28T13:16:18.700144Z",
     "start_time": "2019-03-28T13:16:18.675215Z"
    }
   },
   "outputs": [
    {
     "data": {
      "text/plain": [
       "[{'api_token': '1553778412490',\n",
       "  'data': [['ct_1', 'c', '28/03/2019, 14:07:07']]},\n",
       " {'api_token': '1553778412490',\n",
       "  'data': [['ct_1', 'c', '28/03/2019, 14:07:07'],\n",
       "   ['ct_2', 'c', '28/03/2019, 14:07:07']]},\n",
       " {'api_token': '1553778412490',\n",
       "  'data': [['ct_1', 'c', '28/03/2019, 14:07:07'],\n",
       "   ['ct_2', 'c', '28/03/2019, 14:07:07'],\n",
       "   ['ct_3', 'c', '28/03/2019, 14:07:07']]},\n",
       " {'api_token': '1553778412490',\n",
       "  'data': [['ct_1', 'c', '28/03/2019, 14:07:07'],\n",
       "   ['ct_2', 'c', '28/03/2019, 14:07:07'],\n",
       "   ['ct_3', 'c', '28/03/2019, 14:07:07'],\n",
       "   ['ct_4', 'c', '28/03/2019, 14:07:07']]},\n",
       " {'api_token': '1553778412490',\n",
       "  'data': [['ct_1', 'c', '28/03/2019, 14:07:07'],\n",
       "   ['ct_2', 'c', '28/03/2019, 14:07:07'],\n",
       "   ['ct_3', 'c', '28/03/2019, 14:07:07'],\n",
       "   ['ct_4', 'c', '28/03/2019, 14:07:07'],\n",
       "   ['ct_5', 'c', '28/03/2019, 14:07:08']]},\n",
       " {'api_token': '1553778412490',\n",
       "  'data': [['ct_1', 'c', '28/03/2019, 14:07:07'],\n",
       "   ['ct_2', 'c', '28/03/2019, 14:07:07'],\n",
       "   ['ct_3', 'c', '28/03/2019, 14:07:07'],\n",
       "   ['ct_4', 'c', '28/03/2019, 14:07:07'],\n",
       "   ['ct_5', 'c', '28/03/2019, 14:07:08'],\n",
       "   ['ct_6', 'c', '28/03/2019, 14:07:08']]},\n",
       " {'api_token': '1553778412490',\n",
       "  'data': [['ct_1', 'c', '28/03/2019, 14:07:07'],\n",
       "   ['ct_2', 'c', '28/03/2019, 14:07:07'],\n",
       "   ['ct_3', 'c', '28/03/2019, 14:07:07'],\n",
       "   ['ct_4', 'c', '28/03/2019, 14:07:07'],\n",
       "   ['ct_5', 'c', '28/03/2019, 14:07:08'],\n",
       "   ['ct_6', 'c', '28/03/2019, 14:07:08'],\n",
       "   ['ct_7', 'c', '28/03/2019, 14:07:08']]},\n",
       " {'api_token': '1553778412490',\n",
       "  'data': [['ct_1', 'c', '28/03/2019, 14:07:07'],\n",
       "   ['ct_2', 'c', '28/03/2019, 14:07:07'],\n",
       "   ['ct_3', 'c', '28/03/2019, 14:07:07'],\n",
       "   ['ct_4', 'c', '28/03/2019, 14:07:07'],\n",
       "   ['ct_5', 'c', '28/03/2019, 14:07:08'],\n",
       "   ['ct_6', 'c', '28/03/2019, 14:07:08'],\n",
       "   ['ct_7', 'c', '28/03/2019, 14:07:08'],\n",
       "   ['ct_8', 'c', '28/03/2019, 14:07:08']]},\n",
       " {'api_token': '1553778412490',\n",
       "  'data': [['ct_1', 'c', '28/03/2019, 14:07:07'],\n",
       "   ['ct_2', 'c', '28/03/2019, 14:07:07'],\n",
       "   ['ct_3', 'c', '28/03/2019, 14:07:07'],\n",
       "   ['ct_4', 'c', '28/03/2019, 14:07:07'],\n",
       "   ['ct_5', 'c', '28/03/2019, 14:07:08'],\n",
       "   ['ct_6', 'c', '28/03/2019, 14:07:08'],\n",
       "   ['ct_7', 'c', '28/03/2019, 14:07:08'],\n",
       "   ['ct_8', 'c', '28/03/2019, 14:07:08'],\n",
       "   ['ct_9', 'c', '28/03/2019, 14:07:08']]},\n",
       " {'api_token': '1553778412490',\n",
       "  'data': [['ct_1', 'c', '28/03/2019, 14:07:07'],\n",
       "   ['ct_2', 'c', '28/03/2019, 14:07:07'],\n",
       "   ['ct_3', 'c', '28/03/2019, 14:07:07'],\n",
       "   ['ct_4', 'c', '28/03/2019, 14:07:07'],\n",
       "   ['ct_5', 'c', '28/03/2019, 14:07:08'],\n",
       "   ['ct_6', 'c', '28/03/2019, 14:07:08'],\n",
       "   ['ct_7', 'c', '28/03/2019, 14:07:08'],\n",
       "   ['ct_8', 'c', '28/03/2019, 14:07:08'],\n",
       "   ['ct_9', 'c', '28/03/2019, 14:07:08'],\n",
       "   ['ct_10', 'c', '28/03/2019, 14:07:08']]},\n",
       " {'api_token': '1553778431093',\n",
       "  'data': [['ct_1', 'b', '28/03/2019, 14:07:26']]},\n",
       " {'api_token': '1553778431093',\n",
       "  'data': [['ct_1', 'b', '28/03/2019, 14:07:26'],\n",
       "   ['ct_2', 'b', '28/03/2019, 14:07:26']]},\n",
       " {'api_token': '1553778431093',\n",
       "  'data': [['ct_1', 'b', '28/03/2019, 14:07:26'],\n",
       "   ['ct_2', 'b', '28/03/2019, 14:07:26'],\n",
       "   ['ct_3', 'b', '28/03/2019, 14:07:27']]},\n",
       " {'api_token': '1553778431093',\n",
       "  'data': [['ct_1', 'b', '28/03/2019, 14:07:26'],\n",
       "   ['ct_2', 'b', '28/03/2019, 14:07:26'],\n",
       "   ['ct_3', 'b', '28/03/2019, 14:07:27'],\n",
       "   ['ct_4', 'b', '28/03/2019, 14:07:27']]},\n",
       " {'api_token': '1553778431093',\n",
       "  'data': [['ct_1', 'b', '28/03/2019, 14:07:26'],\n",
       "   ['ct_2', 'b', '28/03/2019, 14:07:26'],\n",
       "   ['ct_3', 'b', '28/03/2019, 14:07:27'],\n",
       "   ['ct_4', 'b', '28/03/2019, 14:07:27'],\n",
       "   ['ct_5', 'b', '28/03/2019, 14:07:27']]},\n",
       " {'api_token': '1553778431093',\n",
       "  'data': [['ct_1', 'b', '28/03/2019, 14:07:26'],\n",
       "   ['ct_2', 'b', '28/03/2019, 14:07:26'],\n",
       "   ['ct_3', 'b', '28/03/2019, 14:07:27'],\n",
       "   ['ct_4', 'b', '28/03/2019, 14:07:27'],\n",
       "   ['ct_5', 'b', '28/03/2019, 14:07:27'],\n",
       "   ['ct_6', 'b', '28/03/2019, 14:07:27']]},\n",
       " {'api_token': '1553778431093',\n",
       "  'data': [['ct_1', 'b', '28/03/2019, 14:07:26'],\n",
       "   ['ct_2', 'b', '28/03/2019, 14:07:26'],\n",
       "   ['ct_3', 'b', '28/03/2019, 14:07:27'],\n",
       "   ['ct_4', 'b', '28/03/2019, 14:07:27'],\n",
       "   ['ct_5', 'b', '28/03/2019, 14:07:27'],\n",
       "   ['ct_6', 'b', '28/03/2019, 14:07:27'],\n",
       "   ['ct_7', 'b', '28/03/2019, 14:07:27']]},\n",
       " {'api_token': '1553778431093',\n",
       "  'data': [['ct_1', 'b', '28/03/2019, 14:07:26'],\n",
       "   ['ct_2', 'b', '28/03/2019, 14:07:26'],\n",
       "   ['ct_3', 'b', '28/03/2019, 14:07:27'],\n",
       "   ['ct_4', 'b', '28/03/2019, 14:07:27'],\n",
       "   ['ct_5', 'b', '28/03/2019, 14:07:27'],\n",
       "   ['ct_6', 'b', '28/03/2019, 14:07:27'],\n",
       "   ['ct_7', 'b', '28/03/2019, 14:07:27'],\n",
       "   ['ct_8', 'b', '28/03/2019, 14:07:27']]},\n",
       " {'api_token': '1553778431093',\n",
       "  'data': [['ct_1', 'b', '28/03/2019, 14:07:26'],\n",
       "   ['ct_2', 'b', '28/03/2019, 14:07:26'],\n",
       "   ['ct_3', 'b', '28/03/2019, 14:07:27'],\n",
       "   ['ct_4', 'b', '28/03/2019, 14:07:27'],\n",
       "   ['ct_5', 'b', '28/03/2019, 14:07:27'],\n",
       "   ['ct_6', 'b', '28/03/2019, 14:07:27'],\n",
       "   ['ct_7', 'b', '28/03/2019, 14:07:27'],\n",
       "   ['ct_8', 'b', '28/03/2019, 14:07:27'],\n",
       "   ['ct_9', 'b', '28/03/2019, 14:07:27']]},\n",
       " {'api_token': '1553778910184',\n",
       "  'data': [{'answer': 'bissextile / été', 'id': 'b'}]},\n",
       " {'api_token': '1553778910184',\n",
       "  'data': [{'answer': 'livre / volume', 'id': 'c'}]},\n",
       " {'api_token': '1553778910184',\n",
       "  'data': [{'answer': 'livre / piano', 'id': 'a'}]},\n",
       " {'api_token': '1553778910184', 'data': [{'answer': 'Diamètre', 'id': 'c'}]},\n",
       " {'api_token': '1553778910184', 'data': [{'answer': 'Poil', 'id': 'e'}]},\n",
       " {'api_token': '1553778910184', 'data': [{'answer': 'Ferme', 'id': 'c'}]},\n",
       " {'api_token': '1553778910184', 'data': [{'answer': 'Montre', 'id': 'a'}]},\n",
       " {'api_token': '1553778910184', 'data': [{'answer': 'Chine', 'id': 'c'}]},\n",
       " {'api_token': '1553778910184', 'data': [{'answer': 'Pièce', 'id': 'b'}]},\n",
       " {'api_token': '1553778910184',\n",
       "  'data': [{'answer': 'pinceau / gouache', 'id': 'c'}]},\n",
       " {'api_token': '1553778910184',\n",
       "  'data': [{'answer': 'Chemin / Cheveu', 'id': 'c'}]},\n",
       " {'api_token': '1553778910184',\n",
       "  'data': [{'answer': 'Urologue/Cardiologue', 'id': 'a'}]}]"
      ]
     },
     "execution_count": 37,
     "metadata": {},
     "output_type": "execute_result"
    }
   ],
   "source": [
    "data"
   ]
  },
  {
   "cell_type": "code",
   "execution_count": 44,
   "metadata": {
    "ExecuteTime": {
     "end_time": "2019-03-28T14:20:38.688452Z",
     "start_time": "2019-03-28T14:20:38.685160Z"
    }
   },
   "outputs": [],
   "source": []
  },
  {
   "cell_type": "code",
   "execution_count": 45,
   "metadata": {
    "ExecuteTime": {
     "end_time": "2019-03-28T14:20:39.127050Z",
     "start_time": "2019-03-28T14:20:39.119771Z"
    }
   },
   "outputs": [
    {
     "data": {
      "text/plain": [
       "{'api_token': '1553782813739',\n",
       " 'data': {'user_id': '1010',\n",
       "  'data': [{'timestamp': 1553782829712,\n",
       "    'values': {'relaxed': 18.75,\n",
       "     'tired': 76.5,\n",
       "     'happy': 60,\n",
       "     'energetic': 50,\n",
       "     'sad': 50}}]}}"
      ]
     },
     "execution_count": 45,
     "metadata": {},
     "output_type": "execute_result"
    }
   ],
   "source": [
    "data[-1]"
   ]
  },
  {
   "cell_type": "code",
   "execution_count": null,
   "metadata": {},
   "outputs": [],
   "source": []
  }
 ],
 "metadata": {
  "kernelspec": {
   "display_name": "Python 3",
   "language": "python",
   "name": "python3"
  },
  "language_info": {
   "codemirror_mode": {
    "name": "ipython",
    "version": 3
   },
   "file_extension": ".py",
   "mimetype": "text/x-python",
   "name": "python",
   "nbconvert_exporter": "python",
   "pygments_lexer": "ipython3",
   "version": "3.6.7"
  },
  "toc": {
   "base_numbering": 1,
   "nav_menu": {},
   "number_sections": true,
   "sideBar": true,
   "skip_h1_title": false,
   "title_cell": "Table of Contents",
   "title_sidebar": "Contents",
   "toc_cell": false,
   "toc_position": {},
   "toc_section_display": true,
   "toc_window_display": false
  }
 },
 "nbformat": 4,
 "nbformat_minor": 2
}
